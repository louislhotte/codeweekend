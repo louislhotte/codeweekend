{
 "cells": [
  {
   "cell_type": "markdown",
   "metadata": {},
   "source": [
    "In It to Win IT"
   ]
  },
  {
   "cell_type": "markdown",
   "metadata": {},
   "source": [
    "Token + API"
   ]
  },
  {
   "cell_type": "code",
   "execution_count": 3,
   "metadata": {},
   "outputs": [
    {
     "name": "stdout",
     "output_type": "stream",
     "text": [
      "API TOKEN: rovjhwxiopitrddsxhrdvakheleadupk\n",
      "API URL: https://codeweekend.dev:3721/api/\n"
     ]
    }
   ],
   "source": [
    "import os\n",
    "\n",
    "# Set the environment variable manually or use a .env file with dotenv\n",
    "os.environ['TOKEN'] = 'rovjhwxiopitrddsxhrdvakheleadupk' \n",
    "\n",
    "# Retrieve the API token from environment variables\n",
    "api_token = os.getenv('TOKEN')\n",
    "api_url = 'https://codeweekend.dev:3721/api/'\n",
    "files_url = 'https://codeweekend.dev:81/'\n",
    "\n",
    "print('API TOKEN:', api_token)\n",
    "print('API URL:', api_url)\n"
   ]
  },
  {
   "cell_type": "markdown",
   "metadata": {},
   "source": [
    "API helping functions"
   ]
  },
  {
   "cell_type": "code",
   "execution_count": 5,
   "metadata": {},
   "outputs": [],
   "source": [
    "import requests\n",
    "import json\n",
    "import time\n",
    "import os\n",
    "\n",
    "headers = {\n",
    "    'authorization': f'Bearer {api_token}'\n",
    "}\n",
    "\n",
    "def show(inner_json):\n",
    "    print(json.dumps(inner_json, indent=2))\n",
    "\n",
    "def get_scoreboard():\n",
    "    return requests.get(api_url + 'scoreboard', headers=headers).json()\n",
    "\n",
    "def get_team_dashboard():\n",
    "    return requests.get(api_url + 'team_dashboard', headers=headers).json()\n",
    "\n",
    "def get_test(task_id):\n",
    "    task_id_padded = '{:03d}'.format(task_id)\n",
    "    url = f'{files_url}{task_id_padded}.json'\n",
    "    return requests.get(url, headers=headers).content\n",
    "\n",
    "# Returns at most 50 submissions\n",
    "def get_team_submissions(offset=0, task_id=None):\n",
    "    url = f'{api_url}team_submissions?offset={offset}'\n",
    "    if task_id is not None:\n",
    "      url += f'&task_id={task_id}'\n",
    "    return requests.get(url, headers=headers).json()\n",
    "\n",
    "def get_submission_info(submission_id, wait=False):\n",
    "    url = f'{api_url}submission_info/{submission_id}'\n",
    "    res = requests.get(url, headers=headers).json()\n",
    "    if 'Pending' in res and wait:\n",
    "        print('Submission is in Pending state, waiting...')\n",
    "        time.sleep(1)\n",
    "        return get_submission_info(submission_id)\n",
    "    return res\n",
    "\n",
    "# Returns submission_id\n",
    "def submit(task_id, solution):\n",
    "    res = requests.post(url = f'{api_url}submit/{task_id}',\n",
    "                        headers=headers, files={'file': solution})\n",
    "    if res.status_code == 200:\n",
    "        return res.text\n",
    "    print(f'Error: {res.text}')\n",
    "    return None\n",
    "\n",
    "def download_submission(submission_id):\n",
    "    import urllib.request\n",
    "    url = f'{api_url}download_submission/{submission_id}'\n",
    "    opener = urllib.request.build_opener()\n",
    "    opener.addheaders = headers.items()\n",
    "    urllib.request.install_opener(opener)\n",
    "    try:\n",
    "        file, _ = urllib.request.urlretrieve(url, \"downloaded.txt\")\n",
    "    except Exception as e:\n",
    "        print('Failed to download submission: ', e)\n",
    "        return None\n",
    "    content = open(file, \"r\").read()\n",
    "    os.remove(file)\n",
    "    return content\n",
    "\n",
    "def update_display_name(new_name):\n",
    "  url = api_url + 'update_user'\n",
    "  data = {\n",
    "      'display_name': new_name,\n",
    "      'email': \"\",\n",
    "      'team_members': \"\"\n",
    "  }\n",
    "  return requests.post(url, json=data, headers=headers).content\n",
    "\n",
    "# show(get_scoreboard())\n",
    "# show(get_submission_info(427))\n",
    "# show(get_team_dashboard())\n",
    "# show(get_team_submissions())\n",
    "# download_submission(476)\n",
    "# get_test(1)\n",
    "# update_display_name('Test 123')"
   ]
  },
  {
   "cell_type": "markdown",
   "metadata": {},
   "source": [
    "Read input"
   ]
  },
  {
   "cell_type": "code",
   "execution_count": 16,
   "metadata": {},
   "outputs": [],
   "source": [
    "import json\n",
    "\n",
    "def read_heropath_input(file_path):\n",
    "    with open(file_path, 'r') as file:\n",
    "        data = json.load(file)\n",
    "    return data\n",
    "\n",
    "# Example usage:\n",
    "file_path = 'heropath_inputs_day1/001.json'\n",
    "input_data = read_heropath_input(file_path)"
   ]
  },
  {
   "cell_type": "markdown",
   "metadata": {},
   "source": [
    "Game logic"
   ]
  },
  {
   "cell_type": "code",
   "execution_count": 22,
   "metadata": {},
   "outputs": [
    {
     "name": "stdout",
     "output_type": "stream",
     "text": [
      "{'hero': {'base_speed': 10, 'base_power': 50, 'base_range': 10, 'level_speed_coeff': 50, 'level_power_coeff': 50, 'level_range_coeff': 50}, 'start_x': 62, 'start_y': 53, 'width': 100, 'height': 100, 'num_turns': 12, 'monsters': [{'x': 30, 'y': 24, 'hp': 0, 'gold': 206, 'exp': 64}, {'x': 81, 'y': 56, 'hp': 0, 'gold': 170, 'exp': 44}, {'x': 32, 'y': 50, 'hp': 0, 'gold': 170, 'exp': 47}, {'x': 63, 'y': 46, 'hp': 0, 'gold': 141, 'exp': 29}, {'x': 50, 'y': 24, 'hp': 0, 'gold': 183, 'exp': 80}, {'x': 40, 'y': 14, 'hp': 0, 'gold': 157, 'exp': 59}, {'x': 40, 'y': 34, 'hp': 0, 'gold': 154, 'exp': 43}]}\n",
      "{\n",
      "    \"moves\": []\n",
      "}\n"
     ]
    }
   ],
   "source": [
    "import json\n",
    "import math\n",
    "\n",
    "def distance(x1, y1, x2, y2):\n",
    "    return math.sqrt((x1 - x2) ** 2 + (y1 - y2) ** 2)\n",
    "\n",
    "def can_move_to(x1, y1, x2, y2, speed):\n",
    "    return distance(x1, y1, x2, y2) <= speed\n",
    "\n",
    "def can_attack(hero_x, hero_y, monster_x, monster_y, attack_range):\n",
    "    return distance(hero_x, hero_y, monster_x, monster_y) <= attack_range\n",
    "\n",
    "def find_nearest_monster(hero_x, hero_y, monsters):\n",
    "    nearest_monster = None\n",
    "    min_distance = float('inf')\n",
    "    for i, monster in enumerate(monsters):\n",
    "        if monster['hp'] > 0:\n",
    "            dist = distance(hero_x, hero_y, monster['x'], monster['y'])\n",
    "            if dist < min_distance:\n",
    "                min_distance = dist\n",
    "                nearest_monster = i\n",
    "    return nearest_monster\n",
    "\n",
    "def maximize_gold(input_data):\n",
    "    hero = input_data['hero']\n",
    "    hero_x = input_data['start_x']\n",
    "    hero_y = input_data['start_y']\n",
    "    monsters = input_data['monsters']\n",
    "    num_turns = input_data['num_turns']\n",
    "    \n",
    "    moves = []\n",
    "    \n",
    "    for turn in range(num_turns):\n",
    "        nearest_monster_idx = find_nearest_monster(hero_x, hero_y, monsters)\n",
    "        if nearest_monster_idx is None:\n",
    "            break\n",
    "\n",
    "        monster = monsters[nearest_monster_idx]\n",
    "        if can_attack(hero_x, hero_y, monster['x'], monster['y'], hero['base_range']):\n",
    "            moves.append({\n",
    "                \"type\": \"attack\",\n",
    "                \"target_id\": nearest_monster_idx\n",
    "            })\n",
    "            monsters[nearest_monster_idx]['hp'] = 0  # Assume attack kills the monster for simplicity\n",
    "        else:\n",
    "            if can_move_to(hero_x, hero_y, monster['x'], monster['y'], hero['base_speed']):\n",
    "                hero_x, hero_y = monster['x'], monster['y']\n",
    "            else:\n",
    "                direction_x = (monster['x'] - hero_x) / distance(hero_x, hero_y, monster['x'], monster['y'])\n",
    "                direction_y = (monster['y'] - hero_y) / distance(hero_x, hero_y, monster['x'], monster['y'])\n",
    "                hero_x += direction_x * hero['base_speed']\n",
    "                hero_y += direction_y * hero['base_speed']\n",
    "                hero_x = int(round(hero_x))\n",
    "                hero_y = int(round(hero_y))\n",
    "            moves.append({\n",
    "                \"type\": \"move\",\n",
    "                \"target_x\": hero_x,\n",
    "                \"target_y\": hero_y\n",
    "            })\n",
    "\n",
    "    return {\n",
    "        \"moves\": moves\n",
    "    }\n",
    "\n",
    "print(input_data)\n",
    "output = maximize_gold(input_data)\n",
    "print(json.dumps(output, indent=4))\n",
    "\n",
    "# Save to output.json\n",
    "with open('output.json', 'w') as f:\n",
    "    json.dump(output, f, indent=4)\n"
   ]
  },
  {
   "cell_type": "markdown",
   "metadata": {},
   "source": [
    "Block to create solution and submit"
   ]
  },
  {
   "cell_type": "code",
   "execution_count": 24,
   "metadata": {},
   "outputs": [
    {
     "name": "stdout",
     "output_type": "stream",
     "text": [
      "Submission_id: 3736\n",
      "Result: {'Ok': 0.0}\n"
     ]
    }
   ],
   "source": [
    "def example():\n",
    "    with open('output.json', 'r') as file:\n",
    "        solution = file.read()\n",
    "    submission_id = submit(1, solution)\n",
    "    print(f'Submission_id: {submission_id}')\n",
    "    info = get_submission_info(submission_id, wait=True)\n",
    "    print(f'Result: {info}')\n",
    "\n",
    "example()"
   ]
  }
 ],
 "metadata": {
  "kernelspec": {
   "display_name": "Python 3",
   "language": "python",
   "name": "python3"
  },
  "language_info": {
   "codemirror_mode": {
    "name": "ipython",
    "version": 3
   },
   "file_extension": ".py",
   "mimetype": "text/x-python",
   "name": "python",
   "nbconvert_exporter": "python",
   "pygments_lexer": "ipython3",
   "version": "3.11.1"
  }
 },
 "nbformat": 4,
 "nbformat_minor": 2
}
