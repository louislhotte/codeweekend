{
 "cells": [
  {
   "cell_type": "code",
   "execution_count": 6,
   "metadata": {},
   "outputs": [
    {
     "name": "stdout",
     "output_type": "stream",
     "text": [
      "API TOKEN: rovjhwxiopitrddsxhrdvakheleadupk\n",
      "API URL: https://codeweekend.dev:3721/api/\n"
     ]
    }
   ],
   "source": [
    "import os\n",
    "\n",
    "# Set the environment variable manually or use a .env file with dotenv\n",
    "os.environ['TOKEN'] = 'rovjhwxiopitrddsxhrdvakheleadupk' \n",
    "\n",
    "# Retrieve the API token from environment variables\n",
    "api_token = os.getenv('TOKEN')\n",
    "api_url = 'https://codeweekend.dev:3721/api/'\n",
    "files_url = 'https://codeweekend.dev:81/'\n",
    "\n",
    "print('API TOKEN:', api_token)\n",
    "print('API URL:', api_url)\n"
   ]
  },
  {
   "cell_type": "code",
   "execution_count": 7,
   "metadata": {},
   "outputs": [],
   "source": [
    "import requests\n",
    "import json\n",
    "import time\n",
    "import os\n",
    "\n",
    "headers = {\n",
    "    'authorization': f'Bearer {api_token}'\n",
    "}\n",
    "\n",
    "def show(inner_json):\n",
    "    print(json.dumps(inner_json, indent=2))\n",
    "\n",
    "def get_scoreboard():\n",
    "    return requests.get(api_url + 'scoreboard', headers=headers).json()\n",
    "\n",
    "def get_team_dashboard():\n",
    "    return requests.get(api_url + 'team_dashboard', headers=headers).json()\n",
    "\n",
    "def get_test(task_id):\n",
    "    task_id_padded = '{:03d}'.format(task_id)\n",
    "    url = f'{files_url}{task_id_padded}.json'\n",
    "    return requests.get(url, headers=headers).content\n",
    "\n",
    "# Returns at most 50 submissions\n",
    "def get_team_submissions(offset=0, task_id=None):\n",
    "    url = f'{api_url}team_submissions?offset={offset}'\n",
    "    if task_id is not None:\n",
    "      url += f'&task_id={task_id}'\n",
    "    return requests.get(url, headers=headers).json()\n",
    "\n",
    "def get_submission_info(submission_id, wait=False):\n",
    "    url = f'{api_url}submission_info/{submission_id}'\n",
    "    res = requests.get(url, headers=headers).json()\n",
    "    if 'Pending' in res and wait:\n",
    "        print('Submission is in Pending state, waiting...')\n",
    "        time.sleep(1)\n",
    "        return get_submission_info(submission_id)\n",
    "    return res\n",
    "\n",
    "# Returns submission_id\n",
    "def submit(task_id, solution):\n",
    "    res = requests.post(url = f'{api_url}submit/{task_id}',\n",
    "                        headers=headers, files={'file': solution})\n",
    "    if res.status_code == 200:\n",
    "        return res.text\n",
    "    print(f'Error: {res.text}')\n",
    "    return None\n",
    "\n",
    "def download_submission(submission_id):\n",
    "    import urllib.request\n",
    "    url = f'{api_url}download_submission/{submission_id}'\n",
    "    opener = urllib.request.build_opener()\n",
    "    opener.addheaders = headers.items()\n",
    "    urllib.request.install_opener(opener)\n",
    "    try:\n",
    "        file, _ = urllib.request.urlretrieve(url, \"downloaded.txt\")\n",
    "    except Exception as e:\n",
    "        print('Failed to download submission: ', e)\n",
    "        return None\n",
    "    content = open(file, \"r\").read()\n",
    "    os.remove(file)\n",
    "    return content\n",
    "\n",
    "def update_display_name(new_name):\n",
    "  url = api_url + 'update_user'\n",
    "  data = {\n",
    "      'display_name': new_name,\n",
    "      'email': \"\",\n",
    "      'team_members': \"\"\n",
    "  }\n",
    "  return requests.post(url, json=data, headers=headers).content\n",
    "\n",
    "# show(get_scoreboard())\n",
    "# show(get_submission_info(427))\n",
    "# show(get_team_dashboard())\n",
    "# show(get_team_submissions())\n",
    "# download_submission(476)\n",
    "# get_test(1)\n",
    "# update_display_name('Test 123')"
   ]
  },
  {
   "cell_type": "code",
   "execution_count": null,
   "metadata": {},
   "outputs": [],
   "source": []
  }
 ],
 "metadata": {
  "kernelspec": {
   "display_name": "Python 3",
   "language": "python",
   "name": "python3"
  },
  "language_info": {
   "codemirror_mode": {
    "name": "ipython",
    "version": 3
   },
   "file_extension": ".py",
   "mimetype": "text/x-python",
   "name": "python",
   "nbconvert_exporter": "python",
   "pygments_lexer": "ipython3",
   "version": "3.11.1"
  }
 },
 "nbformat": 4,
 "nbformat_minor": 2
}
